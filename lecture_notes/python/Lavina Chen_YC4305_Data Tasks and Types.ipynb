{
 "cells": [
  {
   "cell_type": "markdown",
   "id": "43e66ebf-fb2f-4346-9e54-3734fa3e36b0",
   "metadata": {},
   "source": [
    "Questions 1-3"
   ]
  },
  {
   "cell_type": "code",
   "execution_count": 9,
   "id": "535fdda6-4a86-4ceb-9255-415ada976518",
   "metadata": {},
   "outputs": [
    {
     "name": "stdout",
     "output_type": "stream",
     "text": [
      "{'Jon': 95, 'Mike': 84, 'Jamie': 99}\n"
     ]
    }
   ],
   "source": [
    "gradebook = {'Jon': 95, 'Mike': 84, 'Jamie': 99}\n",
    "print (gradebook)"
   ]
  },
  {
   "cell_type": "code",
   "execution_count": 10,
   "id": "eb6bf383-2cf3-4782-b406-6c4f92211e48",
   "metadata": {},
   "outputs": [
    {
     "data": {
      "text/plain": [
       "84"
      ]
     },
     "execution_count": 10,
     "metadata": {},
     "output_type": "execute_result"
    }
   ],
   "source": [
    "gradebook ['Mike']"
   ]
  },
  {
   "cell_type": "code",
   "execution_count": 13,
   "id": "aeeb16c0-1773-47e6-a15f-35b4371e634b",
   "metadata": {},
   "outputs": [
    {
     "ename": "KeyError",
     "evalue": "'Jeff'",
     "output_type": "error",
     "traceback": [
      "\u001b[0;31m---------------------------------------------------------------------------\u001b[0m",
      "\u001b[0;31mKeyError\u001b[0m                                  Traceback (most recent call last)",
      "Cell \u001b[0;32mIn[13], line 1\u001b[0m\n\u001b[0;32m----> 1\u001b[0m gradebook [\u001b[38;5;124m'\u001b[39m\u001b[38;5;124mJeff\u001b[39m\u001b[38;5;124m'\u001b[39m]\n",
      "\u001b[0;31mKeyError\u001b[0m: 'Jeff'"
     ]
    }
   ],
   "source": [
    "gradebook ['Jeff']"
   ]
  },
  {
   "cell_type": "markdown",
   "id": "5da3d318-8ac4-4808-8169-5790037b6122",
   "metadata": {},
   "source": [
    "---------------------------------------------------------------------------\n",
    "KeyError                                  Traceback (most recent call last)\n",
    "Cell In[13], line 1\n",
    "----> 1 gradebook ['Jeff']\n",
    "\n",
    "KeyError: 'Jeff'"
   ]
  },
  {
   "cell_type": "markdown",
   "id": "2e3d4ded-dc2a-4050-938b-0c86dc922eec",
   "metadata": {},
   "source": [
    "Questions 4-7"
   ]
  },
  {
   "cell_type": "code",
   "execution_count": 17,
   "id": "ce305f95-a825-4386-8c4e-e5c4b2bd0d58",
   "metadata": {},
   "outputs": [
    {
     "name": "stdout",
     "output_type": "stream",
     "text": [
      "['Alex', 'Patrick', 'Tom', 'Joe', 'Alex']\n"
     ]
    }
   ],
   "source": [
    "names = ['Alex', 'Patrick', 'Tom', 'Joe', 'Alex']\n",
    "print (names)"
   ]
  },
  {
   "cell_type": "code",
   "execution_count": 19,
   "id": "1346aa4e-fdbf-4bb8-990b-e7ebacee67bc",
   "metadata": {},
   "outputs": [
    {
     "name": "stdout",
     "output_type": "stream",
     "text": [
      "['Alex', 'Alex', 'Joe', 'Patrick', 'Tom']\n"
     ]
    }
   ],
   "source": [
    "names.sort()\n",
    "print (names)"
   ]
  },
  {
   "cell_type": "code",
   "execution_count": 20,
   "id": "65b81360-74f7-49a5-896e-808856652887",
   "metadata": {},
   "outputs": [
    {
     "name": "stdout",
     "output_type": "stream",
     "text": [
      "{'Alex', 'Joe', 'Patrick', 'Tom'}\n"
     ]
    }
   ],
   "source": [
    "names_set = {'Alex', 'Patrick', 'Tom', 'Joe', 'Alex'}\n",
    "print (names_set)"
   ]
  },
  {
   "cell_type": "code",
   "execution_count": 21,
   "id": "3636e013-9604-43b5-9ca9-42be47f6ed06",
   "metadata": {},
   "outputs": [
    {
     "name": "stdout",
     "output_type": "stream",
     "text": [
      "[2, 4, 1, 3, 1]\n"
     ]
    }
   ],
   "source": [
    "td = [2, 4, 1, 3, 1]\n",
    "print(td)"
   ]
  },
  {
   "cell_type": "code",
   "execution_count": 22,
   "id": "7eb3c7af-0958-45e3-a95c-04ab5065f770",
   "metadata": {},
   "outputs": [
    {
     "name": "stdout",
     "output_type": "stream",
     "text": [
      "[1, 3, 1]\n"
     ]
    }
   ],
   "source": [
    "odd_td = [x for x in td if x%2!=0]\n",
    "print (odd_td)"
   ]
  },
  {
   "cell_type": "code",
   "execution_count": 25,
   "id": "5c407dc3-8496-4e03-bc6a-0d3c912ac31e",
   "metadata": {},
   "outputs": [
    {
     "name": "stdout",
     "output_type": "stream",
     "text": [
      "[2, 4, 3]\n"
     ]
    }
   ],
   "source": [
    "n_greater_than_1 = [x for x in td if x>1]\n",
    "print (n_greater_than_1)"
   ]
  },
  {
   "cell_type": "code",
   "execution_count": null,
   "id": "406df469-9ff7-498c-bb11-b28d65a2c774",
   "metadata": {},
   "outputs": [],
   "source": []
  }
 ],
 "metadata": {
  "kernelspec": {
   "display_name": "Python [conda env:base] *",
   "language": "python",
   "name": "conda-base-py"
  },
  "language_info": {
   "codemirror_mode": {
    "name": "ipython",
    "version": 3
   },
   "file_extension": ".py",
   "mimetype": "text/x-python",
   "name": "python",
   "nbconvert_exporter": "python",
   "pygments_lexer": "ipython3",
   "version": "3.13.5"
  }
 },
 "nbformat": 4,
 "nbformat_minor": 5
}
