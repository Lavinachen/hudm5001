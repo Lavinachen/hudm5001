








import pandas as pd
import numpy as np





path_to_data = "https://archive.ics.uci.edu/ml/machine-learning-databases/00579/MI.data"





df = pd.read_csv(path_to_data, header = None)
df.head()





df.head(3)





missing_count = (df[1] == '?').sum()
print (missing_count)





df[1] = df[1].replace('?', np.nan)
print (df[1])





nan = df[df[1].isna()]
print (nan)





# inspect first element

df[1].iloc[0]


# check the column type
df[1].dtype





df[1] = df[1].apply(lambda x: float(x) if isinstance(x, str) else x)





print (df[1].dtype)





median_age = df[1].median(skipna=True)
print (median_age)





gender_frequency = df[2].value_counts()
print (gender_frequency)


gender_percentage = df[2].value_counts(normalize=True)*100
print (gender_percentage)





most_frequent_value = df[8].mode()
print (most_frequent_value)





AFIB_cases_1 = (df[112] == 1).sum()
print (AFIB_cases_1)





df2 = df[[1,112]]
print (df2.shape)





df2 = df2.rename(columns={1:'age', 112:'AFIB'})
df2.head()





import seaborn as sns

fig = sns.boxplot(df2, x= 'AFIB', y= 'age')






