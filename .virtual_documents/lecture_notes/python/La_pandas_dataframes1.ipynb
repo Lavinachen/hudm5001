


import pandas as pd





# x, y, z are lists in the dict

df = pd.DataFrame({'x':[0,2,1,5], 'y':[1,1,0,0], 'z':[True,False,False,False]})
df


print('attributes of df:')
print('index          :', df.index)
print('columns        :', df.columns)
print('data           :\n', df.values)
print('               ')
print('type(df.values):', type(df.values))


list(df.columns)


list(df.index)





df2 = pd.DataFrame(columns=['x','y'], index=['row1','row2','row3'], data=[[9,3],[1,2],[4,6]])
df2








df_deep    = df.copy()  # deep copy; changes to df will not pass through
df_shallow = df         # shallow copy; changes to df will pass through

print('--df')
print(df)


print(id(df))
print(id(df_shallow))
print(id(df_deep))


df.x = 1


df_shallow


df_deep


df_deep    = df.copy()  # deep copy; changes to df will not pass through
df_shallow = df         # shallow copy; changes to df will pass through

print('--df')
print(df)

# update values in df.x
df.x = 1

print('--Updated df')
print(df)
print('--df_shallow')
print(df_shallow)
print('--df_deep')
print(df_deep)

# rebuild df
df = pd.DataFrame({'x':[0,2,1,5], 'y':[1,1,0,0], 'z':[True,False,False,False]}) 








df.dtypes


?df.dtypes





df = df.rename(columns={'z':'is_label'})
df





df['y']





# shows index and x values

df.y #no need to add ''





df.y.values





df.y.values[0]








# square values in list
lst = [1,2,3,4,5]

[x**2 for x in lst]


# keep odd values from list
lst = [1,2,3,4,5]
[x for x in lst if x % 2 == 1]


# even
[x for x in lst if x % 2 == 0]


# squared evens
[x ** 2 for x in lst if x % 2 == 0]


# retain elements containing 'ind'

f = ['f1_ind','f2_ind','f3_ind','f1','f2','f3']
[x for x in f if 'ind' in x]





# create a new df by selecting columns that are NOT: x, y

df3 = df[[col for col in df.columns if col not in ['x','y']]]
df3


df3 = df[[col for col in df.columns if col not in ['is_label']]]
df3








dat = pd.DataFrame({'feature':[1,4,7.7], 'labels':[0,1,2]})
dat


dat = pd.DataFrame({'features':[0.2,-1.1,1.6, 5.4], 'labels':[1,1,0,2]}) 
dat





dat = dat.rename(columns={'labels' :'label'})
dat


dat = dat.rename(columns={'labels':'label'})
dat





df['x_plus_y'] = df.x + df.y
df








df['x_plus_y'] = df['x'] + df['y']
df





df.x_plus_y = df.x + df.y
df
#whenever creating the new column, must use bracket function
            #so no df.x_plus_y4 = df.x + df.y 
            #butdf['x_plus_y4'] = df['x'] + df['y']








import seaborn as sns

iris = sns.load_dataset('iris')





type(iris)








iris.head()





iris.tail()





iris.dtypes





iris.shape





len(iris)





iris.columns





iris.index








iris.sepal_length.head()

# alternatively,
# iris['sepal_length'].head()


iris['sepal_length'].head()





# desired columns are list of strings

lengths = iris[['sepal_length','petal_length']]
lengths.head(3)





iris.head()





# first few records
iris.head()


iris.iloc[2]





iris.iloc[1:3] #doing sellecting by position, zero-based indexing





iris.iloc[1:3, 0:3]


#first three column names

iris.columns[0:3]











iris.iloc[1:3] #select data according to the order(zero-based), consider the indexing


iris.loc[1:3]#select data according to the label





iris.loc[1:3, ['sepal_length','petal_width']]





iris.loc[:, ['sepal_length','petal_width']]


df_cat = pd.DataFrame(index=['burmese','persian','maine_coone'],columns=['x'],data=[2,1,3])
df_cat


df_cat.iloc[:2]


df_cat.iloc[0:1]


df_cat.loc['burmese']


df_cat.loc[['burmese','maine_coone']] #quizzzzzzzz





# boolean mask

iris.sepal_length >= 7.5


iris[iris.sepal_length >= 7.5]


# multiple conditions

iris[(iris['sepal_length']>=4.5) & (iris['sepal_length']<=4.7)]





# show the sepal_length values

iris.sepal_length.values


# assign the mask and show the bool values

mask = iris.sepal_length >= 7.5
mask.values


# extract the True values

iris.sepal_length[mask].values








import numpy as np

df_miss = pd.DataFrame({'x':[2, np.nan, 1], 'y':[np.nan, np.nan, 6]})
df_miss





# drop all missing data

df_drop_all = df_miss.dropna()
df_drop_all


# drop records where column: x has np.nan

df_drop_x = df_miss.dropna(subset=['x'])
df_drop_x





df_filled = df_miss.fillna(df_miss.median()) #df_filled = df_miss.fillna(df_miss.mean())
df_filled





iris.sort_values(by=['sepal_length','petal_width'])





iris.sort_index(axis=0, ascending=False)





iris.describe()


iris.species.describe()


iris.sepal_length.describe()





iris.species.value_counts()














# show percentages instead of counts

iris.species.value_counts(normalize=True)





iris.sepal_length.mean()


iris.sepal_length.max()


# standard deviation

iris.sepal_length.std()





iris[['sepal_length','petal_length']].corr()


# corr on three columns

iris[['sepal_length','petal_length','sepal_width']].corr()


# full correlation matrix

iris.corr()





fig = sns.scatterplot(x=iris.sepal_length, y=iris.petal_length)
fig.grid()





iris.to_csv('./iris_data.csv') #. refer to 'the current directory'





iris.head(2)


del iris['sepal_width']


iris.head(2)





iris = iris.drop(['sepal_length', 'species'], axis=1)
iris.head(2)





df = pd.read_csv('./iris_data.csv')


iris_loaded.head(2)














iris_sort = iris.sort_values(by=['species'], ascending=False)
iris_sort








setosa = iris[iris.species=='setosa']
setosa.species.value_counts()








len(iris[(iris.petal_length <= 1.4) | (iris.petal_length >= 1.6)])


A = "2"
B = "3"
print (A+B)


df['apple']
df.apple









