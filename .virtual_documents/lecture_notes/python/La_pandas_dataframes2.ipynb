


import numpy as np
import pandas as pd





pip install seaborn


import seaborn as sns

iris = sns.load_dataset('iris')


iris.head(2)





iris['sepal_len_sq'] = iris.sepal_length.apply(lambda x: x**2)
iris.head(5)





iris['sepal_len_wid_avg'] = iris[['sepal_length','sepal_width']].apply(lambda x: (x.sepal_length+x.sepal_width)/2, axis=1)
iris.head()
#axis =1 means use the columns


iris['sepal_len_wid_avg2'] = iris[['sepal_length','sepal_width']].mean(axis=1)
iris.head()











iris['min_petal']=iris[['petal_length', 'petal_width']].apply(lambda x: min(x.petal_length, x.petal_width, axis=1)
print(iris.head())


iris['min_petal']=iris[['petal_length','petal_width']].apply(lambda x: min(x.petal_length, x.petal_width), axis=1)
print(iris.head())
print(iris.tail())


iris['min_petal2']=iris[['petal_length','petal_width']].min(axis=1)
iris.head()








iris.groupby("species").mean()








pd.pivot_table(iris, values="sepal_length", columns=["species"], aggfunc = "mean")


⚠️values=["sepal_length", "sepal_width"], columns











pd.pivot_table(iris, values=["sepal_width","petal_width"], columns=["species"], aggfunc = {"mean", "median"})








df1 = pd.DataFrame(np.random.randn(3, 4))
df2 = pd.DataFrame(np.random.randn(3, 4))

print(df1)
print('-'*45)
print(df2)

df3 = pd.concat([df1, df2], axis=0)

print('-'*45)
print(df3)


df4 = pd.concat([df1,df2], axis=1)
print('-'*45)
print(df4)








left = pd.DataFrame({"key": ["jamie", "bill"], "lval": [15, 22]})
right = pd.DataFrame({"key": ["jamie", "bill", "asher"], "rval": [4, 5, 8]})

joined = pd.merge(left, right, on="key", how="right")

print('---left')
print(left)
print('\n---right')
print(right)
print('\n---joined')
print(joined)








left = pd.DataFrame({"key": ["jamie", "bill"], "val": [15, 22]})
right = pd.DataFrame({"key": ["jamie", "bill", "asher"], "val": [4, 5, 8]})

joined = pd.merge(left, right, on="key", how="right") #right can be replace as 'outer'/ 'inner'⚠️

print('---left')
print(left)
print('\n---right')
print(right)
print('\n---joined')
print(joined)











left = pd.DataFrame({"key": ["jamie", "bill"], "lval": [15, 22]})
right = pd.DataFrame({"key": ["jamie", "bill", "asher"], "rval": [4, 5, 8]})

joined = pd.merge(left, right, on="key", how="inner")

print('---left')
print(left)
print('\n---right')
print(right)
print('\n---joined')
print(joined)








# create a series 
ser = pd.Series([1, 1, 2, 3, 5, 8]) 

# extract values 
vals = ser.values 

print('orig data:', vals)
print('orig type:', type(vals))
print('orig shape:', vals.shape)

# reshaping series
reshaped_vals = vals.reshape((3, 2)) 

print('\n reshaped vals:')
print(reshaped_vals)
print('\n new type:', type(reshaped_vals))
print('new shape:', reshaped_vals.shape)








vals.reshape(-1,3)





vals.reshape(3,-1)


⚠️vals.reshape(4,-1)

















ser = pd.Series([1, 1, 2, 3, 5, 8])
vals= ser.values
resh = vals.reshape(2,3)
print(resh)
print('new shape:', resh.shape)





#⚠️
cats = pd.DataFrame({'breed':['persian','persian','siamese','himalayan','burmese']})

print('--categorical data')
print(cats)

cats = pd.get_dummies(cats.breed, drop_first=None, prefix='breed') #create indicator
print('\n')
print('--dummified categorical data')
print(cats)














cats2 = pd.DataFrame({'breed':['persian','persian','siamese','himalayan','burmese'], 
                      'color':['calico','white','seal point','cream','sable']})


cats2 = pd.DataFrame({'breed':['persian','persian','siamese','himalayan','burmese'], 
                      'color':['calico','white','seal point','cream','sable']})

breed = pd.get_dummies(cats2.breed, drop_first=True, prefix='breed_')
color = pd.get_dummies(cats2.color, drop_first=True, prefix='color_')

cats3 = pd.concat([breed, color], axis=1)
cats3



