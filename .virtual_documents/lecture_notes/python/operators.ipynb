








5 // 2


-5 // 2





5 % 2








5**3





epoch = 20
print('epoch:', epoch)





0 == (10 % 5)





5/9 != 0.5555





x = 10

(x % 10 == 0) or (x < -1)


(x % 10 == 0) and (x < -1)


not x == 5








x = ["python", "R"]
y = ["python", "R"]
s = x


x is s # returns True because s is the same object as x


x is y # returns False because x is not the same object as y, even if they have the same content


x == y # to demonstrate the difference betweeen "is" and "==": this comparison returns True because x is equal to y





x is not y # returns True if both variables are not the same object








x = 'fries'
y = ['hamburger','fries','shake']

x in y





z = 'chicken'

z not in y














# for example:

test1 = 3
test2 = 5
val = test1 - test2

print(val > 0)



