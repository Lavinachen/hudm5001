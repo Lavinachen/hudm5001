import numpy as np
import os

data_path = '/Users/Lavina/Desktop/hudm5001work/Coffee/'
file_name = 'Coffee_TRAIN.txt'
full_path = os.path.join(data_path, file_name)

data = np.loadtxt(full_path, delimiter=',')





data = np.loadtxt(full_path)


data



